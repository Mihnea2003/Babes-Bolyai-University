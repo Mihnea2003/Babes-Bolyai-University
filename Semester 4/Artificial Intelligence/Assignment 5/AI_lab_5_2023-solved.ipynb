{
 "cells": [
  {
   "cell_type": "markdown",
   "id": "b8210b19",
   "metadata": {},
   "source": [
    "## A.I. Assignment 5\n",
    "\n",
    "## Learning Goals\n",
    "\n",
    "By the end of this lab, you should be able to:\n",
    "* Get more familiar with tensors in pytorch \n",
    "* Create a simple multilayer perceptron model with pytorch\n",
    "* Visualise the parameters\n",
    "\n",
    "\n",
    "### Task\n",
    "\n",
    "Build a fully connected feed forward network that adds two bits. Determine the a propper achitecture for this network (what database you use for this problem? how many layers? how many neurons on each layer? what is the activation function? what is the loss function? etc)\n",
    "\n",
    "Create at least 3 such networks and compare their performance (how accurate they are?, how farst they are trained to get at 1 accuracy?)\n",
    "\n",
    "Display for the best one the weights for each layer.\n"
   ]
  },
  {
   "cell_type": "code",
   "execution_count": 10,
   "id": "e3614e5f",
   "metadata": {},
   "outputs": [],
   "source": [
    "import torch\n",
    "import torch.nn as nn\n",
    "import torch.optim as optim\n",
    "from collections import OrderedDict\n"
   ]
  },
  {
   "cell_type": "code",
   "execution_count": 7,
   "id": "5ee7e7d7",
   "metadata": {},
   "outputs": [],
   "source": [
    "model1 = nn.Sequential(OrderedDict([\n",
    "    ('hidden', nn.Linear(2, 4)),\n",
    "    ('activation', nn.Sigmoid()),\n",
    "    ('output', nn.Linear(4, 1))\n",
    "]))\n",
    "\n",
    "model2 = nn.Sequential(OrderedDict([\n",
    "    ('hidden', nn.Linear(2, 8)),\n",
    "    ('activation', nn.ReLU()),\n",
    "    ('output', nn.Linear(8, 1))\n",
    "]))\n",
    "\n",
    "model3 = nn.Sequential(OrderedDict([\n",
    "    ('fct1', nn.Linear(2, 16)),\n",
    "    ('relu1', nn.ReLU()),\n",
    "    ('fct2', nn.Linear(16, 8)),\n",
    "    ('relu2', nn.ReLU()),\n",
    "    ('fct3', nn.Linear(8, 4)),\n",
    "    ('relu3', nn.ReLU()),\n",
    "    ('fct4', nn.Linear(4, 1))  \n",
    "]))"
   ]
  },
  {
   "cell_type": "code",
   "execution_count": 8,
   "id": "665ae958",
   "metadata": {},
   "outputs": [
    {
     "name": "stdout",
     "output_type": "stream",
     "text": [
      "Sequential(\n",
      "  (hidden): Linear(in_features=2, out_features=4, bias=True)\n",
      "  (activation): Sigmoid()\n",
      "  (output): Linear(in_features=4, out_features=1, bias=True)\n",
      ")\n",
      "Sequential(\n",
      "  (hidden): Linear(in_features=2, out_features=8, bias=True)\n",
      "  (activation): ReLU()\n",
      "  (output): Linear(in_features=8, out_features=1, bias=True)\n",
      ")\n",
      "Sequential(\n",
      "  (fct1): Linear(in_features=2, out_features=16, bias=True)\n",
      "  (relu1): ReLU()\n",
      "  (fct2): Linear(in_features=16, out_features=8, bias=True)\n",
      "  (relu2): ReLU()\n",
      "  (fct3): Linear(in_features=8, out_features=4, bias=True)\n",
      "  (relu3): ReLU()\n",
      "  (fct4): Linear(in_features=4, out_features=1, bias=True)\n",
      ")\n"
     ]
    }
   ],
   "source": [
    "print(model1)\n",
    "print(model2)\n",
    "print(model3)"
   ]
  },
  {
   "cell_type": "code",
   "execution_count": 5,
   "id": "e26f0d3e",
   "metadata": {},
   "outputs": [
    {
     "name": "stdout",
     "output_type": "stream",
     "text": [
      "tensor([[0., 0.],\n",
      "        [0., 1.],\n",
      "        [1., 0.],\n",
      "        [1., 1.]])\n"
     ]
    }
   ],
   "source": [
    "data_in = torch.tensor([[0], [0, 1], [1, 0], [1, 1]], dtype=torch.float32)\n",
    "\n",
    "print(data_in)  "
   ]
  },
  {
   "cell_type": "code",
   "execution_count": 6,
   "id": "4fb16bbc",
   "metadata": {},
   "outputs": [
    {
     "name": "stdout",
     "output_type": "stream",
     "text": [
      "tensor([[0.],\n",
      "        [1.],\n",
      "        [1.],\n",
      "        [0.]])\n"
     ]
    }
   ],
   "source": [
    "data_target = torch.tensor([[0], [1], [1], [2]], dtype=torch.float32)\n",
    "    \n",
    "print(data_target)"
   ]
  },
  {
   "cell_type": "code",
   "execution_count": 11,
   "id": "69d920ed",
   "metadata": {},
   "outputs": [],
   "source": [
    "criterion = nn.MSELoss()\n",
    "\n",
    "optimizer1 = optim.SGD(model1.parameters(), lr=0.1)\n",
    "optimizer2 = optim.SGD(model2.parameters(), lr=0.1)\n",
    "optimizer3 = optim.SGD(model3.parameters(), lr=0.1)\n"
   ]
  },
  {
   "cell_type": "code",
   "execution_count": 12,
   "id": "cde91f6f",
   "metadata": {},
   "outputs": [
    {
     "name": "stdout",
     "output_type": "stream",
     "text": [
      "1st model:\n",
      "Epoch [100/1000], Loss: 0.2501\n",
      "Epoch [200/1000], Loss: 0.2501\n",
      "Epoch [300/1000], Loss: 0.2500\n",
      "Epoch [400/1000], Loss: 0.2500\n",
      "Epoch [500/1000], Loss: 0.2499\n",
      "Epoch [600/1000], Loss: 0.2499\n",
      "Epoch [700/1000], Loss: 0.2499\n",
      "Epoch [800/1000], Loss: 0.2498\n",
      "Epoch [900/1000], Loss: 0.2498\n",
      "Epoch [1000/1000], Loss: 0.2498\n",
      "\n",
      "2nd model:\n",
      "Epoch [100/1000], Loss: 0.0226\n",
      "Epoch [200/1000], Loss: 0.0001\n",
      "Epoch [300/1000], Loss: 0.0000\n",
      "Epoch [400/1000], Loss: 0.0000\n",
      "Epoch [500/1000], Loss: 0.0000\n",
      "Epoch [600/1000], Loss: 0.0000\n",
      "Epoch [700/1000], Loss: 0.0000\n",
      "Epoch [800/1000], Loss: 0.0000\n",
      "Epoch [900/1000], Loss: 0.0000\n",
      "Epoch [1000/1000], Loss: 0.0000\n",
      "\n",
      "3rd model:\n",
      "Epoch [100/1000], Loss: 0.1864\n",
      "Epoch [200/1000], Loss: 0.0000\n",
      "Epoch [300/1000], Loss: 0.0000\n",
      "Epoch [400/1000], Loss: 0.0000\n",
      "Epoch [500/1000], Loss: 0.0000\n",
      "Epoch [600/1000], Loss: 0.0000\n",
      "Epoch [700/1000], Loss: 0.0000\n",
      "Epoch [800/1000], Loss: 0.0000\n",
      "Epoch [900/1000], Loss: 0.0000\n",
      "Epoch [1000/1000], Loss: 0.0000\n"
     ]
    }
   ],
   "source": [
    "def train_model(model, optimizer, criterion, data_in, data_target, num_epochs=1000):\n",
    "    for epoch in range(num_epochs):\n",
    "        # Forward pass\n",
    "        outputs_pred = model(data_in)\n",
    "        loss = criterion(outputs_pred, data_target)\n",
    "        \n",
    "        # Backward and optimize\n",
    "        optimizer.zero_grad()\n",
    "        loss.backward()\n",
    "        optimizer.step()\n",
    "        \n",
    "        # Print training progress\n",
    "        if (epoch+1) % 100 == 0:\n",
    "            print(f'Epoch [{epoch+1}/{num_epochs}], Loss: {loss.item():.4f}')\n",
    "\n",
    "\n",
    "print(\"1st model:\")\n",
    "train_model(model1, optimizer1, criterion, data_in, data_target)\n",
    "\n",
    "print(\"\\n2nd model:\")\n",
    "train_model(model2, optimizer2, criterion, data_in, data_target)\n",
    "\n",
    "print(\"\\n3rd model:\")\n",
    "train_model(model3, optimizer3, criterion, data_in, data_target)\n"
   ]
  },
  {
   "cell_type": "code",
   "execution_count": 13,
   "id": "dff3ec1a",
   "metadata": {},
   "outputs": [
    {
     "name": "stdout",
     "output_type": "stream",
     "text": [
      "1st model MSE: 0.2498\n",
      "2nd model MSE: 0.0000\n",
      "3rd model MSE: 0.0000\n"
     ]
    }
   ],
   "source": [
    "mse_criterion = nn.MSELoss()\n",
    "\n",
    "# First model\n",
    "with torch.no_grad():\n",
    "    outputs = model1(data_in)\n",
    "    mse = mse_criterion(outputs, data_target)\n",
    "    print(f'1st model MSE: {mse.item():.4f}')\n",
    "    \n",
    "# Second model\n",
    "with torch.no_grad():\n",
    "    outputs = model2(data_in)\n",
    "    mse = mse_criterion(outputs, data_target)\n",
    "    print(f'2nd model MSE: {mse.item():.4f}')\n",
    "    \n",
    "# Third model\n",
    "with torch.no_grad():\n",
    "    outputs = model3(data_in)\n",
    "    mse = mse_criterion(outputs, data_target)\n",
    "    print(f'3rd model MSE: {mse.item():.4f}')"
   ]
  },
  {
   "cell_type": "code",
   "execution_count": 14,
   "id": "c1a7518b",
   "metadata": {},
   "outputs": [
    {
     "name": "stdout",
     "output_type": "stream",
     "text": [
      "1st model weights:\n",
      "hidden.weight tensor([[-0.5148,  0.2646],\n",
      "        [ 0.4667, -0.0984],\n",
      "        [-0.3924,  0.3630],\n",
      "        [-0.3928, -0.2637]])\n",
      "hidden.bias tensor([0.0054, 0.0069, 0.1450, 0.2423])\n",
      "output.weight tensor([[ 0.2476,  0.0657, -0.2213,  0.0003]])\n",
      "output.bias tensor([0.4649])\n",
      "\n",
      "2nd model weights:\n",
      "hidden.weight tensor([[ 0.1076, -0.2921],\n",
      "        [ 0.4660,  0.6982],\n",
      "        [ 0.4693, -0.3408],\n",
      "        [ 0.7198, -0.7255],\n",
      "        [-0.7659,  0.7388],\n",
      "        [ 0.2642,  0.4646],\n",
      "        [-0.6365, -0.6365],\n",
      "        [ 0.2449,  0.3503]])\n",
      "hidden.bias tensor([-5.3147e-01,  4.3165e-01, -5.5657e-01,  5.7595e-03,  2.7106e-02,\n",
      "        -2.6420e-01,  6.3649e-01, -4.8658e-04])\n",
      "output.weight tensor([[ 0.2972, -0.2740, -0.0616,  0.8145,  0.9713, -0.3948, -0.9297, -0.0982]])\n",
      "output.bias tensor([0.6790])\n",
      "\n",
      "3rd model weights:\n",
      "fct1.weight tensor([[-0.4660,  0.2901],\n",
      "        [ 0.4319, -0.6247],\n",
      "        [ 0.1466,  0.1146],\n",
      "        [-0.1362,  0.7599],\n",
      "        [ 0.2810, -0.6129],\n",
      "        [-0.7227, -0.7266],\n",
      "        [ 0.0013,  0.0183],\n",
      "        [-0.4843, -0.1383],\n",
      "        [ 0.1038, -0.1429],\n",
      "        [-0.1452, -0.1364],\n",
      "        [-0.2967,  0.4867],\n",
      "        [ 0.1563, -0.4598],\n",
      "        [-0.6340, -0.6376],\n",
      "        [ 0.8448,  0.2890],\n",
      "        [ 0.2967, -0.3118],\n",
      "        [ 0.2828, -0.2006]])\n",
      "fct1.bias tensor([-0.2903,  0.1928,  0.3167,  0.1404, -0.6455,  0.7106, -0.5275, -0.4140,\n",
      "        -0.5995,  0.4053,  0.3638,  0.5953, -0.0224,  0.2122, -0.2978, -0.5467])\n",
      "fct2.weight tensor([[ 0.0663,  0.0743,  0.0183,  0.1660, -0.2251,  0.3338,  0.1305, -0.0608,\n",
      "         -0.1911, -0.1791, -0.1387, -0.1494, -0.1597,  0.0590,  0.0955, -0.0641],\n",
      "        [ 0.1860, -0.1675,  0.1873,  0.2047,  0.0609,  0.0970,  0.1465,  0.1929,\n",
      "         -0.1917, -0.0365, -0.0274, -0.2015,  0.0041,  0.0150, -0.0911, -0.1798],\n",
      "        [-0.1131, -0.4358,  0.2146,  0.1550, -0.1176,  0.6574,  0.1959, -0.0961,\n",
      "         -0.0161,  0.0318,  0.1120,  0.0048,  0.0600,  0.3288,  0.0731, -0.0377],\n",
      "        [-0.1206, -0.1269, -0.0435,  0.0181, -0.0370,  0.1976, -0.1212, -0.0567,\n",
      "          0.0034,  0.2382,  0.0528, -0.1449, -0.2070, -0.0147, -0.1835, -0.1234],\n",
      "        [-0.1919, -0.2327, -0.1379, -0.1973,  0.2057, -0.1269,  0.1182, -0.0746,\n",
      "         -0.2088, -0.1125,  0.1836,  0.1681, -0.0937, -0.0160, -0.1025, -0.0938],\n",
      "        [ 0.1883, -0.0257, -0.1408,  0.4063,  0.1339,  0.0379, -0.2098, -0.1631,\n",
      "         -0.2450, -0.0166,  0.3923, -0.3029, -0.0518, -0.3268,  0.0058, -0.0630],\n",
      "        [ 0.2354, -0.2956,  0.0590,  0.1513, -0.0761,  0.2801,  0.0382,  0.2262,\n",
      "         -0.0914,  0.1892, -0.0615,  0.0749, -0.1482,  0.1976,  0.1506,  0.1592],\n",
      "        [-0.1555,  0.4693,  0.0748,  0.0534, -0.1779, -0.5386, -0.0368, -0.0250,\n",
      "          0.2020,  0.2908,  0.1590, -0.1727, -0.0916, -0.0602,  0.0538, -0.1512]])\n",
      "fct2.bias tensor([ 0.1239,  0.1678, -0.1118, -0.1915, -0.0483,  0.0840,  0.0910,  0.1954])\n",
      "fct3.weight tensor([[-2.8400e-01,  8.2175e-02, -3.0127e-01, -5.5625e-02,  3.1931e-01,\n",
      "          2.1090e-01, -1.0435e-01, -1.4109e-01],\n",
      "        [-1.9947e-01,  1.9464e-01, -4.8192e-01, -2.7609e-01, -3.0649e-01,\n",
      "          3.5505e-01, -2.7375e-01,  5.2194e-01],\n",
      "        [ 3.3826e-01,  2.1899e-01,  6.4512e-01,  9.6705e-02, -2.2325e-01,\n",
      "         -4.6866e-01,  2.5558e-01, -5.1012e-01],\n",
      "        [-1.4140e-01,  2.4043e-01,  1.2805e-01, -2.4513e-02,  5.2879e-02,\n",
      "         -2.8779e-01,  7.1275e-02,  3.7236e-04]])\n",
      "fct3.bias tensor([-0.2334,  0.3355,  0.0601,  0.1702])\n",
      "fct4.weight tensor([[ 0.4315,  0.8705, -1.0498, -0.1850]])\n",
      "fct4.bias tensor([0.6589])\n"
     ]
    }
   ],
   "source": [
    "# print model wights\n",
    "\n",
    "print(\"1st model weights:\")\n",
    "for name, param in model1.named_parameters():\n",
    "    print(name, param.data)\n",
    "\n",
    "print(\"\\n2nd model weights:\")\n",
    "for name, param in model2.named_parameters():\n",
    "    print(name, param.data)\n",
    "\n",
    "print(\"\\n3rd model weights:\")\n",
    "for name, param in model3.named_parameters():\n",
    "    print(name, param.data)"
   ]
  }
 ],
 "metadata": {
  "kernelspec": {
   "display_name": "Python 3 (ipykernel)",
   "language": "python",
   "name": "python3"
  },
  "language_info": {
   "codemirror_mode": {
    "name": "ipython",
    "version": 3
   },
   "file_extension": ".py",
   "mimetype": "text/x-python",
   "name": "python",
   "nbconvert_exporter": "python",
   "pygments_lexer": "ipython3",
   "version": "3.11.9"
  }
 },
 "nbformat": 4,
 "nbformat_minor": 5
}
